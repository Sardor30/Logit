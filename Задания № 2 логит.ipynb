{
 "cells": [
  {
   "cell_type": "code",
   "execution_count": 26,
   "metadata": {},
   "outputs": [],
   "source": [
    "#Задания №2"
   ]
  },
  {
   "cell_type": "code",
   "execution_count": 24,
   "metadata": {},
   "outputs": [],
   "source": [
    "#Загрузим необходимые библиотеки и посмотрим на данные\n",
    "# отключим всякие предупреждения Anaconda\n",
    "import warnings\n",
    "warnings.filterwarnings('ignore')\n",
    "import pandas as pd\n",
    "import seaborn as sns\n",
    "import matplotlib.pylab as plt\n",
    "from pylab import rcParams\n",
    "rcParams['figure.figsize'] = 20, 10\n",
    "import numpy as np\n",
    "from sklearn.linear_model import LogisticRegression\n",
    "from sklearn.metrics import classification_report, confusion_matrix\n",
    "from sklearn.preprocessing import PolynomialFeatures\n",
    "from sklearn.model_selection import cross_val_score, StratifiedKFold\n",
    "from sklearn.model_selection import GridSearchCV\n",
    "\n",
    "df = pd.read_csv(r'E:\\data\\junior\\classification\\data_classification_for_task.csv')"
   ]
  },
  {
   "cell_type": "code",
   "execution_count": 25,
   "metadata": {},
   "outputs": [
    {
     "data": {
      "text/html": [
       "<div>\n",
       "<style scoped>\n",
       "    .dataframe tbody tr th:only-of-type {\n",
       "        vertical-align: middle;\n",
       "    }\n",
       "\n",
       "    .dataframe tbody tr th {\n",
       "        vertical-align: top;\n",
       "    }\n",
       "\n",
       "    .dataframe thead th {\n",
       "        text-align: right;\n",
       "    }\n",
       "</style>\n",
       "<table border=\"1\" class=\"dataframe\">\n",
       "  <thead>\n",
       "    <tr style=\"text-align: right;\">\n",
       "      <th></th>\n",
       "      <th>AGE</th>\n",
       "      <th>GENDER</th>\n",
       "      <th>FEATURE_1</th>\n",
       "      <th>FEATURE_2</th>\n",
       "      <th>FEATURE_3</th>\n",
       "      <th>FEATURE_4</th>\n",
       "      <th>FEATURE_5</th>\n",
       "      <th>FEATURE_6</th>\n",
       "      <th>FEATURE_7</th>\n",
       "      <th>FEATURE_8</th>\n",
       "      <th>FEATURE_9</th>\n",
       "      <th>FEATURE_10</th>\n",
       "      <th>FEATURE_11</th>\n",
       "      <th>TARGET</th>\n",
       "    </tr>\n",
       "  </thead>\n",
       "  <tbody>\n",
       "    <tr>\n",
       "      <th>0</th>\n",
       "      <td>63</td>\n",
       "      <td>1</td>\n",
       "      <td>3</td>\n",
       "      <td>145</td>\n",
       "      <td>233</td>\n",
       "      <td>1</td>\n",
       "      <td>0</td>\n",
       "      <td>150</td>\n",
       "      <td>0</td>\n",
       "      <td>2.3</td>\n",
       "      <td>0</td>\n",
       "      <td>0</td>\n",
       "      <td>1</td>\n",
       "      <td>1</td>\n",
       "    </tr>\n",
       "    <tr>\n",
       "      <th>1</th>\n",
       "      <td>37</td>\n",
       "      <td>1</td>\n",
       "      <td>2</td>\n",
       "      <td>130</td>\n",
       "      <td>250</td>\n",
       "      <td>0</td>\n",
       "      <td>1</td>\n",
       "      <td>187</td>\n",
       "      <td>0</td>\n",
       "      <td>3.5</td>\n",
       "      <td>0</td>\n",
       "      <td>0</td>\n",
       "      <td>2</td>\n",
       "      <td>1</td>\n",
       "    </tr>\n",
       "    <tr>\n",
       "      <th>2</th>\n",
       "      <td>41</td>\n",
       "      <td>0</td>\n",
       "      <td>1</td>\n",
       "      <td>130</td>\n",
       "      <td>204</td>\n",
       "      <td>0</td>\n",
       "      <td>0</td>\n",
       "      <td>172</td>\n",
       "      <td>0</td>\n",
       "      <td>1.4</td>\n",
       "      <td>2</td>\n",
       "      <td>0</td>\n",
       "      <td>2</td>\n",
       "      <td>1</td>\n",
       "    </tr>\n",
       "    <tr>\n",
       "      <th>3</th>\n",
       "      <td>56</td>\n",
       "      <td>1</td>\n",
       "      <td>1</td>\n",
       "      <td>120</td>\n",
       "      <td>236</td>\n",
       "      <td>0</td>\n",
       "      <td>1</td>\n",
       "      <td>178</td>\n",
       "      <td>0</td>\n",
       "      <td>0.8</td>\n",
       "      <td>2</td>\n",
       "      <td>0</td>\n",
       "      <td>2</td>\n",
       "      <td>1</td>\n",
       "    </tr>\n",
       "    <tr>\n",
       "      <th>4</th>\n",
       "      <td>57</td>\n",
       "      <td>0</td>\n",
       "      <td>0</td>\n",
       "      <td>120</td>\n",
       "      <td>354</td>\n",
       "      <td>0</td>\n",
       "      <td>1</td>\n",
       "      <td>163</td>\n",
       "      <td>1</td>\n",
       "      <td>0.6</td>\n",
       "      <td>2</td>\n",
       "      <td>0</td>\n",
       "      <td>2</td>\n",
       "      <td>1</td>\n",
       "    </tr>\n",
       "  </tbody>\n",
       "</table>\n",
       "</div>"
      ],
      "text/plain": [
       "   AGE  GENDER  FEATURE_1  FEATURE_2  FEATURE_3  FEATURE_4  FEATURE_5  \\\n",
       "0   63       1          3        145        233          1          0   \n",
       "1   37       1          2        130        250          0          1   \n",
       "2   41       0          1        130        204          0          0   \n",
       "3   56       1          1        120        236          0          1   \n",
       "4   57       0          0        120        354          0          1   \n",
       "\n",
       "   FEATURE_6  FEATURE_7  FEATURE_8  FEATURE_9  FEATURE_10  FEATURE_11  TARGET  \n",
       "0        150          0        2.3          0           0           1       1  \n",
       "1        187          0        3.5          0           0           2       1  \n",
       "2        172          0        1.4          2           0           2       1  \n",
       "3        178          0        0.8          2           0           2       1  \n",
       "4        163          1        0.6          2           0           2       1  "
      ]
     },
     "execution_count": 25,
     "metadata": {},
     "output_type": "execute_result"
    }
   ],
   "source": [
    "#Посмотрим данные \n",
    "df.head(5)"
   ]
  },
  {
   "cell_type": "code",
   "execution_count": 26,
   "metadata": {},
   "outputs": [
    {
     "name": "stdout",
     "output_type": "stream",
     "text": [
      "(303, 14)\n"
     ]
    }
   ],
   "source": [
    "#Посмотрим на размер данных, названия признаков и их типы.\n",
    "print(df.shape)\n",
    "#Видим, что в таблице 303 строки и 14 столбцов. Выведем названия столбцов:"
   ]
  },
  {
   "cell_type": "code",
   "execution_count": 27,
   "metadata": {},
   "outputs": [],
   "source": [
    "pd.set_option('display.max_columns', 100)\n",
    "pd.set_option('display.max_rows', 100)"
   ]
  },
  {
   "cell_type": "code",
   "execution_count": 28,
   "metadata": {},
   "outputs": [
    {
     "name": "stdout",
     "output_type": "stream",
     "text": [
      "Index(['AGE', 'GENDER', 'FEATURE_1', 'FEATURE_2', 'FEATURE_3', 'FEATURE_4',\n",
      "       'FEATURE_5', 'FEATURE_6', 'FEATURE_7', 'FEATURE_8', 'FEATURE_9',\n",
      "       'FEATURE_10', 'FEATURE_11', 'TARGET'],\n",
      "      dtype='object')\n"
     ]
    }
   ],
   "source": [
    "print(df.columns)"
   ]
  },
  {
   "cell_type": "code",
   "execution_count": 29,
   "metadata": {},
   "outputs": [
    {
     "name": "stdout",
     "output_type": "stream",
     "text": [
      "<class 'pandas.core.frame.DataFrame'>\n",
      "RangeIndex: 303 entries, 0 to 302\n",
      "Data columns (total 14 columns):\n",
      " #   Column      Non-Null Count  Dtype  \n",
      "---  ------      --------------  -----  \n",
      " 0   AGE         303 non-null    int64  \n",
      " 1   GENDER      303 non-null    int64  \n",
      " 2   FEATURE_1   303 non-null    int64  \n",
      " 3   FEATURE_2   303 non-null    int64  \n",
      " 4   FEATURE_3   303 non-null    int64  \n",
      " 5   FEATURE_4   303 non-null    int64  \n",
      " 6   FEATURE_5   303 non-null    int64  \n",
      " 7   FEATURE_6   303 non-null    int64  \n",
      " 8   FEATURE_7   303 non-null    int64  \n",
      " 9   FEATURE_8   303 non-null    float64\n",
      " 10  FEATURE_9   303 non-null    int64  \n",
      " 11  FEATURE_10  303 non-null    int64  \n",
      " 12  FEATURE_11  303 non-null    int64  \n",
      " 13  TARGET      303 non-null    int64  \n",
      "dtypes: float64(1), int64(13)\n",
      "memory usage: 33.3 KB\n",
      "None\n"
     ]
    }
   ],
   "source": [
    "#Чтобы посмотреть общую информацию по датафрейму и всем признакам, воспользуемся методом info:\n",
    "print(df.info())\n",
    "#int64, float64 t — это типы признаков. 16 признаков — числовые."
   ]
  },
  {
   "cell_type": "code",
   "execution_count": 30,
   "metadata": {},
   "outputs": [
    {
     "data": {
      "text/html": [
       "<div>\n",
       "<style scoped>\n",
       "    .dataframe tbody tr th:only-of-type {\n",
       "        vertical-align: middle;\n",
       "    }\n",
       "\n",
       "    .dataframe tbody tr th {\n",
       "        vertical-align: top;\n",
       "    }\n",
       "\n",
       "    .dataframe thead th {\n",
       "        text-align: right;\n",
       "    }\n",
       "</style>\n",
       "<table border=\"1\" class=\"dataframe\">\n",
       "  <thead>\n",
       "    <tr style=\"text-align: right;\">\n",
       "      <th></th>\n",
       "      <th>AGE</th>\n",
       "      <th>GENDER</th>\n",
       "      <th>FEATURE_1</th>\n",
       "      <th>FEATURE_2</th>\n",
       "      <th>FEATURE_3</th>\n",
       "      <th>FEATURE_4</th>\n",
       "      <th>FEATURE_5</th>\n",
       "      <th>FEATURE_6</th>\n",
       "      <th>FEATURE_7</th>\n",
       "      <th>FEATURE_8</th>\n",
       "      <th>FEATURE_9</th>\n",
       "      <th>FEATURE_10</th>\n",
       "      <th>FEATURE_11</th>\n",
       "      <th>TARGET</th>\n",
       "    </tr>\n",
       "  </thead>\n",
       "  <tbody>\n",
       "    <tr>\n",
       "      <th>count</th>\n",
       "      <td>303.000000</td>\n",
       "      <td>303.000000</td>\n",
       "      <td>303.000000</td>\n",
       "      <td>303.000000</td>\n",
       "      <td>303.000000</td>\n",
       "      <td>303.000000</td>\n",
       "      <td>303.000000</td>\n",
       "      <td>303.000000</td>\n",
       "      <td>303.000000</td>\n",
       "      <td>303.000000</td>\n",
       "      <td>303.000000</td>\n",
       "      <td>303.000000</td>\n",
       "      <td>303.000000</td>\n",
       "      <td>303.000000</td>\n",
       "    </tr>\n",
       "    <tr>\n",
       "      <th>mean</th>\n",
       "      <td>54.366337</td>\n",
       "      <td>0.683168</td>\n",
       "      <td>0.966997</td>\n",
       "      <td>131.623762</td>\n",
       "      <td>246.264026</td>\n",
       "      <td>0.148515</td>\n",
       "      <td>0.528053</td>\n",
       "      <td>149.646865</td>\n",
       "      <td>0.326733</td>\n",
       "      <td>1.039604</td>\n",
       "      <td>1.399340</td>\n",
       "      <td>0.729373</td>\n",
       "      <td>2.313531</td>\n",
       "      <td>0.544554</td>\n",
       "    </tr>\n",
       "    <tr>\n",
       "      <th>std</th>\n",
       "      <td>9.082101</td>\n",
       "      <td>0.466011</td>\n",
       "      <td>1.032052</td>\n",
       "      <td>17.538143</td>\n",
       "      <td>51.830751</td>\n",
       "      <td>0.356198</td>\n",
       "      <td>0.525860</td>\n",
       "      <td>22.905161</td>\n",
       "      <td>0.469794</td>\n",
       "      <td>1.161075</td>\n",
       "      <td>0.616226</td>\n",
       "      <td>1.022606</td>\n",
       "      <td>0.612277</td>\n",
       "      <td>0.498835</td>\n",
       "    </tr>\n",
       "    <tr>\n",
       "      <th>min</th>\n",
       "      <td>29.000000</td>\n",
       "      <td>0.000000</td>\n",
       "      <td>0.000000</td>\n",
       "      <td>94.000000</td>\n",
       "      <td>126.000000</td>\n",
       "      <td>0.000000</td>\n",
       "      <td>0.000000</td>\n",
       "      <td>71.000000</td>\n",
       "      <td>0.000000</td>\n",
       "      <td>0.000000</td>\n",
       "      <td>0.000000</td>\n",
       "      <td>0.000000</td>\n",
       "      <td>0.000000</td>\n",
       "      <td>0.000000</td>\n",
       "    </tr>\n",
       "    <tr>\n",
       "      <th>25%</th>\n",
       "      <td>47.500000</td>\n",
       "      <td>0.000000</td>\n",
       "      <td>0.000000</td>\n",
       "      <td>120.000000</td>\n",
       "      <td>211.000000</td>\n",
       "      <td>0.000000</td>\n",
       "      <td>0.000000</td>\n",
       "      <td>133.500000</td>\n",
       "      <td>0.000000</td>\n",
       "      <td>0.000000</td>\n",
       "      <td>1.000000</td>\n",
       "      <td>0.000000</td>\n",
       "      <td>2.000000</td>\n",
       "      <td>0.000000</td>\n",
       "    </tr>\n",
       "    <tr>\n",
       "      <th>50%</th>\n",
       "      <td>55.000000</td>\n",
       "      <td>1.000000</td>\n",
       "      <td>1.000000</td>\n",
       "      <td>130.000000</td>\n",
       "      <td>240.000000</td>\n",
       "      <td>0.000000</td>\n",
       "      <td>1.000000</td>\n",
       "      <td>153.000000</td>\n",
       "      <td>0.000000</td>\n",
       "      <td>0.800000</td>\n",
       "      <td>1.000000</td>\n",
       "      <td>0.000000</td>\n",
       "      <td>2.000000</td>\n",
       "      <td>1.000000</td>\n",
       "    </tr>\n",
       "    <tr>\n",
       "      <th>75%</th>\n",
       "      <td>61.000000</td>\n",
       "      <td>1.000000</td>\n",
       "      <td>2.000000</td>\n",
       "      <td>140.000000</td>\n",
       "      <td>274.500000</td>\n",
       "      <td>0.000000</td>\n",
       "      <td>1.000000</td>\n",
       "      <td>166.000000</td>\n",
       "      <td>1.000000</td>\n",
       "      <td>1.600000</td>\n",
       "      <td>2.000000</td>\n",
       "      <td>1.000000</td>\n",
       "      <td>3.000000</td>\n",
       "      <td>1.000000</td>\n",
       "    </tr>\n",
       "    <tr>\n",
       "      <th>max</th>\n",
       "      <td>77.000000</td>\n",
       "      <td>1.000000</td>\n",
       "      <td>3.000000</td>\n",
       "      <td>200.000000</td>\n",
       "      <td>564.000000</td>\n",
       "      <td>1.000000</td>\n",
       "      <td>2.000000</td>\n",
       "      <td>202.000000</td>\n",
       "      <td>1.000000</td>\n",
       "      <td>6.200000</td>\n",
       "      <td>2.000000</td>\n",
       "      <td>4.000000</td>\n",
       "      <td>3.000000</td>\n",
       "      <td>1.000000</td>\n",
       "    </tr>\n",
       "  </tbody>\n",
       "</table>\n",
       "</div>"
      ],
      "text/plain": [
       "              AGE      GENDER   FEATURE_1   FEATURE_2   FEATURE_3   FEATURE_4  \\\n",
       "count  303.000000  303.000000  303.000000  303.000000  303.000000  303.000000   \n",
       "mean    54.366337    0.683168    0.966997  131.623762  246.264026    0.148515   \n",
       "std      9.082101    0.466011    1.032052   17.538143   51.830751    0.356198   \n",
       "min     29.000000    0.000000    0.000000   94.000000  126.000000    0.000000   \n",
       "25%     47.500000    0.000000    0.000000  120.000000  211.000000    0.000000   \n",
       "50%     55.000000    1.000000    1.000000  130.000000  240.000000    0.000000   \n",
       "75%     61.000000    1.000000    2.000000  140.000000  274.500000    0.000000   \n",
       "max     77.000000    1.000000    3.000000  200.000000  564.000000    1.000000   \n",
       "\n",
       "        FEATURE_5   FEATURE_6   FEATURE_7   FEATURE_8   FEATURE_9  FEATURE_10  \\\n",
       "count  303.000000  303.000000  303.000000  303.000000  303.000000  303.000000   \n",
       "mean     0.528053  149.646865    0.326733    1.039604    1.399340    0.729373   \n",
       "std      0.525860   22.905161    0.469794    1.161075    0.616226    1.022606   \n",
       "min      0.000000   71.000000    0.000000    0.000000    0.000000    0.000000   \n",
       "25%      0.000000  133.500000    0.000000    0.000000    1.000000    0.000000   \n",
       "50%      1.000000  153.000000    0.000000    0.800000    1.000000    0.000000   \n",
       "75%      1.000000  166.000000    1.000000    1.600000    2.000000    1.000000   \n",
       "max      2.000000  202.000000    1.000000    6.200000    2.000000    4.000000   \n",
       "\n",
       "       FEATURE_11      TARGET  \n",
       "count  303.000000  303.000000  \n",
       "mean     2.313531    0.544554  \n",
       "std      0.612277    0.498835  \n",
       "min      0.000000    0.000000  \n",
       "25%      2.000000    0.000000  \n",
       "50%      2.000000    1.000000  \n",
       "75%      3.000000    1.000000  \n",
       "max      3.000000    1.000000  "
      ]
     },
     "execution_count": 30,
     "metadata": {},
     "output_type": "execute_result"
    }
   ],
   "source": [
    "df.describe(include=['float64', 'int64'])"
   ]
  },
  {
   "cell_type": "code",
   "execution_count": 31,
   "metadata": {},
   "outputs": [
    {
     "data": {
      "text/plain": [
       "1    165\n",
       "0    138\n",
       "Name: TARGET, dtype: int64"
      ]
     },
     "execution_count": 31,
     "metadata": {},
     "output_type": "execute_result"
    }
   ],
   "source": [
    "df['TARGET'].value_counts()\n",
    "#Видим что 165 человек больные"
   ]
  },
  {
   "cell_type": "code",
   "execution_count": 32,
   "metadata": {},
   "outputs": [
    {
     "data": {
      "image/png": "[encoded data removed]",
      "text/plain": [
       "<Figure size 1440x720 with 1 Axes>"
      ]
     },
     "metadata": {
      "needs_background": "light"
     },
     "output_type": "display_data"
    }
   ],
   "source": [
    "sns_plot = sns.distplot(df['AGE'])\n",
    "fig = sns_plot.get_figure()\n",
    "#Середий больних уофицент середи 58 лет"
   ]
  },
  {
   "cell_type": "code",
   "execution_count": 33,
   "metadata": {},
   "outputs": [],
   "source": [
    "X = df.drop('TARGET', axis=1)\n",
    "y = df['TARGET']"
   ]
  },
  {
   "cell_type": "code",
   "execution_count": 34,
   "metadata": {},
   "outputs": [
    {
     "data": {
      "text/plain": [
       "AGE            52.496970\n",
       "GENDER          0.563636\n",
       "FEATURE_1       1.375758\n",
       "FEATURE_2     129.303030\n",
       "FEATURE_3     242.230303\n",
       "FEATURE_4       0.139394\n",
       "FEATURE_5       0.593939\n",
       "FEATURE_6     158.466667\n",
       "FEATURE_7       0.139394\n",
       "FEATURE_8       0.583030\n",
       "FEATURE_9       1.593939\n",
       "FEATURE_10      0.363636\n",
       "FEATURE_11      2.121212\n",
       "TARGET          1.000000\n",
       "dtype: float64"
      ]
     },
     "execution_count": 34,
     "metadata": {},
     "output_type": "execute_result"
    }
   ],
   "source": [
    "#Смотрим среднние \n",
    "df[df['TARGET'] == 1].mean()"
   ]
  },
  {
   "cell_type": "code",
   "execution_count": 35,
   "metadata": {},
   "outputs": [],
   "source": [
    "#Визивлизавруем скольео больных \n",
    "d = {'Yes' : 1, 'No' : 0}\n",
    "X = df.drop('TARGET', axis=1)\n",
    "y = df['TARGET']"
   ]
  },
  {
   "cell_type": "code",
   "execution_count": 36,
   "metadata": {},
   "outputs": [
    {
     "data": {
      "image/png": "[encoded data removed]",
      "text/plain": [
       "<Figure size 1440x720 with 1 Axes>"
      ]
     },
     "metadata": {
      "needs_background": "light"
     },
     "output_type": "display_data"
    }
   ],
   "source": [
    "df['TARGET'].value_counts().plot(kind='bar', label='TARGET')\n",
    "plt.legend()\n",
    "plt.title('Распределение больних');"
   ]
  },
  {
   "cell_type": "code",
   "execution_count": 37,
   "metadata": {},
   "outputs": [],
   "source": [
    "#Логит модель\n",
    "model = LogisticRegression(solver='liblinear', random_state=0)"
   ]
  },
  {
   "cell_type": "code",
   "execution_count": 38,
   "metadata": {},
   "outputs": [
    {
     "data": {
      "text/plain": [
       "LogisticRegression(random_state=0, solver='liblinear')"
      ]
     },
     "execution_count": 38,
     "metadata": {},
     "output_type": "execute_result"
    }
   ],
   "source": [
    "model.fit(X, y)"
   ]
  },
  {
   "cell_type": "code",
   "execution_count": 39,
   "metadata": {},
   "outputs": [],
   "source": [
    "#Создаем модель и обучаем её\n",
    "model = LogisticRegression(solver='liblinear', random_state=0).fit(X, y)"
   ]
  },
  {
   "cell_type": "code",
   "execution_count": 40,
   "metadata": {},
   "outputs": [
    {
     "data": {
      "text/plain": [
       "array([[105,  33],\n",
       "       [ 12, 153]], dtype=int64)"
      ]
     },
     "execution_count": 40,
     "metadata": {},
     "output_type": "execute_result"
    }
   ],
   "source": [
    "confusion_matrix(y, model.predict(X))"
   ]
  },
  {
   "cell_type": "code",
   "execution_count": 41,
   "metadata": {
    "scrolled": true
   },
   "outputs": [
    {
     "data": {
      "image/png": "[encoded data removed]",
      "text/plain": [
       "<Figure size 576x576 with 1 Axes>"
      ]
     },
     "metadata": {
      "needs_background": "light"
     },
     "output_type": "display_data"
    }
   ],
   "source": [
    "# Обучаем ставшую родной логистическую регрессию\n",
    "\n",
    "cm = confusion_matrix(y, model.predict(X))\n",
    "\n",
    "# Воспользуемся функцией построения матрицы ошибок из документации sklearn\n",
    "fig, ax = plt.subplots(figsize=(8, 8))\n",
    "ax.imshow(cm)\n",
    "ax.grid(False)\n",
    "ax.xaxis.set(ticks=(0, 1), ticklabels=('Predicted 0s', 'Predicted 1s'))\n",
    "ax.yaxis.set(ticks=(0, 1), ticklabels=('Actual 0s', 'Actual 1s'))\n",
    "ax.set_ylim(1.5, -0.5)\n",
    "for i in range(2):\n",
    "    for j in range(2):\n",
    "        ax.text(j, i, cm[i, j], ha='center', va='center', color='red')\n",
    "plt.show()"
   ]
  },
  {
   "cell_type": "code",
   "execution_count": 42,
   "metadata": {},
   "outputs": [
    {
     "name": "stdout",
     "output_type": "stream",
     "text": [
      "              precision    recall  f1-score   support\n",
      "\n",
      "           0       0.90      0.76      0.82       138\n",
      "           1       0.82      0.93      0.87       165\n",
      "\n",
      "    accuracy                           0.85       303\n",
      "   macro avg       0.86      0.84      0.85       303\n",
      "weighted avg       0.86      0.85      0.85       303\n",
      "\n"
     ]
    }
   ],
   "source": [
    "#Оценка качество модели с помощью функции f1_score\n",
    ">>> print(classification_report(y, model.predict(X)))"
   ]
  },
  {
   "cell_type": "code",
   "execution_count": 44,
   "metadata": {},
   "outputs": [],
   "source": [
    "# Step 4: Evaluate the model\n",
    "p_pred = model.predict_proba(X)\n",
    "y_pred = model.predict(X)\n",
    "score_ = model.score(X, y)\n",
    "conf_m = confusion_matrix(y, y_pred)\n",
    "report = classification_report(y, y_pred)"
   ]
  },
  {
   "cell_type": "code",
   "execution_count": 45,
   "metadata": {},
   "outputs": [
    {
     "name": "stdout",
     "output_type": "stream",
     "text": [
      "report:\n",
      "              precision    recall  f1-score   support\n",
      "\n",
      "           0       0.90      0.76      0.82       138\n",
      "           1       0.82      0.93      0.87       165\n",
      "\n",
      "    accuracy                           0.85       303\n",
      "   macro avg       0.86      0.84      0.85       303\n",
      "weighted avg       0.86      0.85      0.85       303\n",
      "\n"
     ]
    }
   ],
   "source": [
    "#Оценка качество модели с помощью функции f1_score\n",
    "print('report:', report, sep='\\n')"
   ]
  },
  {
   "cell_type": "code",
   "execution_count": 47,
   "metadata": {},
   "outputs": [],
   "source": [
    "import numpy as np\n",
    "import statsmodels.api as sm\n",
    "X = sm.add_constant(X)"
   ]
  },
  {
   "cell_type": "code",
   "execution_count": 50,
   "metadata": {},
   "outputs": [],
   "source": [
    "model = sm.Logit(y, X)"
   ]
  },
  {
   "cell_type": "code",
   "execution_count": 51,
   "metadata": {},
   "outputs": [
    {
     "name": "stdout",
     "output_type": "stream",
     "text": [
      "Optimization terminated successfully.\n",
      "         Current function value: 0.348904\n",
      "         Iterations 7\n"
     ]
    }
   ],
   "source": [
    "result = model.fit(method='newton')"
   ]
  },
  {
   "cell_type": "code",
   "execution_count": 52,
   "metadata": {},
   "outputs": [
    {
     "data": {
      "text/html": [
       "<table class=\"simpletable\">\n",
       "<caption>Logit Regression Results</caption>\n",
       "<tr>\n",
       "  <th>Dep. Variable:</th>        <td>TARGET</td>      <th>  No. Observations:  </th>  <td>   303</td>  \n",
       "</tr>\n",
       "<tr>\n",
       "  <th>Model:</th>                 <td>Logit</td>      <th>  Df Residuals:      </th>  <td>   289</td>  \n",
       "</tr>\n",
       "<tr>\n",
       "  <th>Method:</th>                 <td>MLE</td>       <th>  Df Model:          </th>  <td>    13</td>  \n",
       "</tr>\n",
       "<tr>\n",
       "  <th>Date:</th>            <td>Wed, 17 Mar 2021</td> <th>  Pseudo R-squ.:     </th>  <td>0.4937</td>  \n",
       "</tr>\n",
       "<tr>\n",
       "  <th>Time:</th>                <td>15:22:06</td>     <th>  Log-Likelihood:    </th> <td> -105.72</td> \n",
       "</tr>\n",
       "<tr>\n",
       "  <th>converged:</th>             <td>True</td>       <th>  LL-Null:           </th> <td> -208.82</td> \n",
       "</tr>\n",
       "<tr>\n",
       "  <th>Covariance Type:</th>     <td>nonrobust</td>    <th>  LLR p-value:       </th> <td>7.262e-37</td>\n",
       "</tr>\n",
       "</table>\n",
       "<table class=\"simpletable\">\n",
       "<tr>\n",
       "       <td></td>         <th>coef</th>     <th>std err</th>      <th>z</th>      <th>P>|z|</th>  <th>[0.025</th>    <th>0.975]</th>  \n",
       "</tr>\n",
       "<tr>\n",
       "  <th>const</th>      <td>    3.4505</td> <td>    2.571</td> <td>    1.342</td> <td> 0.180</td> <td>   -1.590</td> <td>    8.490</td>\n",
       "</tr>\n",
       "<tr>\n",
       "  <th>AGE</th>        <td>   -0.0049</td> <td>    0.023</td> <td>   -0.212</td> <td> 0.832</td> <td>   -0.050</td> <td>    0.041</td>\n",
       "</tr>\n",
       "<tr>\n",
       "  <th>GENDER</th>     <td>   -1.7582</td> <td>    0.469</td> <td>   -3.751</td> <td> 0.000</td> <td>   -2.677</td> <td>   -0.839</td>\n",
       "</tr>\n",
       "<tr>\n",
       "  <th>FEATURE_1</th>  <td>    0.8599</td> <td>    0.185</td> <td>    4.638</td> <td> 0.000</td> <td>    0.496</td> <td>    1.223</td>\n",
       "</tr>\n",
       "<tr>\n",
       "  <th>FEATURE_2</th>  <td>   -0.0195</td> <td>    0.010</td> <td>   -1.884</td> <td> 0.060</td> <td>   -0.040</td> <td>    0.001</td>\n",
       "</tr>\n",
       "<tr>\n",
       "  <th>FEATURE_3</th>  <td>   -0.0046</td> <td>    0.004</td> <td>   -1.224</td> <td> 0.221</td> <td>   -0.012</td> <td>    0.003</td>\n",
       "</tr>\n",
       "<tr>\n",
       "  <th>FEATURE_4</th>  <td>    0.0349</td> <td>    0.529</td> <td>    0.066</td> <td> 0.947</td> <td>   -1.003</td> <td>    1.073</td>\n",
       "</tr>\n",
       "<tr>\n",
       "  <th>FEATURE_5</th>  <td>    0.4663</td> <td>    0.348</td> <td>    1.339</td> <td> 0.181</td> <td>   -0.216</td> <td>    1.149</td>\n",
       "</tr>\n",
       "<tr>\n",
       "  <th>FEATURE_6</th>  <td>    0.0232</td> <td>    0.010</td> <td>    2.219</td> <td> 0.026</td> <td>    0.003</td> <td>    0.044</td>\n",
       "</tr>\n",
       "<tr>\n",
       "  <th>FEATURE_7</th>  <td>   -0.9800</td> <td>    0.410</td> <td>   -2.391</td> <td> 0.017</td> <td>   -1.783</td> <td>   -0.177</td>\n",
       "</tr>\n",
       "<tr>\n",
       "  <th>FEATURE_8</th>  <td>   -0.5403</td> <td>    0.214</td> <td>   -2.526</td> <td> 0.012</td> <td>   -0.959</td> <td>   -0.121</td>\n",
       "</tr>\n",
       "<tr>\n",
       "  <th>FEATURE_9</th>  <td>    0.5793</td> <td>    0.350</td> <td>    1.656</td> <td> 0.098</td> <td>   -0.106</td> <td>    1.265</td>\n",
       "</tr>\n",
       "<tr>\n",
       "  <th>FEATURE_10</th> <td>   -0.7733</td> <td>    0.191</td> <td>   -4.051</td> <td> 0.000</td> <td>   -1.147</td> <td>   -0.399</td>\n",
       "</tr>\n",
       "<tr>\n",
       "  <th>FEATURE_11</th> <td>   -0.9004</td> <td>    0.290</td> <td>   -3.104</td> <td> 0.002</td> <td>   -1.469</td> <td>   -0.332</td>\n",
       "</tr>\n",
       "</table>"
      ],
      "text/plain": [
       "<class 'statsmodels.iolib.summary.Summary'>\n",
       "\"\"\"\n",
       "                           Logit Regression Results                           \n",
       "==============================================================================\n",
       "Dep. Variable:                 TARGET   No. Observations:                  303\n",
       "Model:                          Logit   Df Residuals:                      289\n",
       "Method:                           MLE   Df Model:                           13\n",
       "Date:                Wed, 17 Mar 2021   Pseudo R-squ.:                  0.4937\n",
       "Time:                        15:22:06   Log-Likelihood:                -105.72\n",
       "converged:                       True   LL-Null:                       -208.82\n",
       "Covariance Type:            nonrobust   LLR p-value:                 7.262e-37\n",
       "==============================================================================\n",
       "                 coef    std err          z      P>|z|      [0.025      0.975]\n",
       "------------------------------------------------------------------------------\n",
       "const          3.4505      2.571      1.342      0.180      -1.590       8.490\n",
       "AGE           -0.0049      0.023     -0.212      0.832      -0.050       0.041\n",
       "GENDER        -1.7582      0.469     -3.751      0.000      -2.677      -0.839\n",
       "FEATURE_1      0.8599      0.185      4.638      0.000       0.496       1.223\n",
       "FEATURE_2     -0.0195      0.010     -1.884      0.060      -0.040       0.001\n",
       "FEATURE_3     -0.0046      0.004     -1.224      0.221      -0.012       0.003\n",
       "FEATURE_4      0.0349      0.529      0.066      0.947      -1.003       1.073\n",
       "FEATURE_5      0.4663      0.348      1.339      0.181      -0.216       1.149\n",
       "FEATURE_6      0.0232      0.010      2.219      0.026       0.003       0.044\n",
       "FEATURE_7     -0.9800      0.410     -2.391      0.017      -1.783      -0.177\n",
       "FEATURE_8     -0.5403      0.214     -2.526      0.012      -0.959      -0.121\n",
       "FEATURE_9      0.5793      0.350      1.656      0.098      -0.106       1.265\n",
       "FEATURE_10    -0.7733      0.191     -4.051      0.000      -1.147      -0.399\n",
       "FEATURE_11    -0.9004      0.290     -3.104      0.002      -1.469      -0.332\n",
       "==============================================================================\n",
       "\"\"\""
      ]
     },
     "execution_count": 52,
     "metadata": {},
     "output_type": "execute_result"
    }
   ],
   "source": [
    "#Смотрим на резултат\n",
    "result.summary()"
   ]
  },
  {
   "cell_type": "code",
   "execution_count": null,
   "metadata": {},
   "outputs": [],
   "source": [
    "# %load https://raw.githubusercontent.com/dib-lab/khmer/master/scripts/fastq-to-fasta.py\n",
    "#! /usr/bin/env python\n",
    "# This file is part of khmer, https://github.com/dib-lab/khmer/, and is\n",
    "# Copyright (C) 2010-2015, Michigan State University.\n",
    "# Copyright (C) 2015, The Regents of the University of California.\n",
    "#\n",
    "# Redistribution and use in source and binary forms, with or without\n",
    "# modification, are permitted provided that the following conditions are\n",
    "# met:\n",
    "#\n",
    "#     * Redistributions of source code must retain the above copyright\n",
    "#       notice, this list of conditions and the following disclaimer.\n",
    "#\n",
    "#     * Redistributions in binary form must reproduce the above\n",
    "#       copyright notice, this list of conditions and the following\n",
    "#       disclaimer in the documentation and/or other materials provided\n",
    "#       with the distribution.\n",
    "#\n",
    "#     * Neither the name of the Michigan State University nor the names\n",
    "#       of its contributors may be used to endorse or promote products\n",
    "#       derived from this software without specific prior written\n",
    "#       permission.\n",
    "#\n",
    "# THIS SOFTWARE IS PROVIDED BY THE COPYRIGHT HOLDERS AND CONTRIBUTORS\n",
    "# \"AS IS\" AND ANY EXPRESS OR IMPLIED WARRANTIES, INCLUDING, BUT NOT\n",
    "# LIMITED TO, THE IMPLIED WARRANTIES OF MERCHANTABILITY AND FITNESS FOR\n",
    "# A PARTICULAR PURPOSE ARE DISCLAIMED. IN NO EVENT SHALL THE COPYRIGHT\n",
    "# HOLDER OR CONTRIBUTORS BE LIABLE FOR ANY DIRECT, INDIRECT, INCIDENTAL,\n",
    "# SPECIAL, EXEMPLARY, OR CONSEQUENTIAL DAMAGES (INCLUDING, BUT NOT\n",
    "# LIMITED TO, PROCUREMENT OF SUBSTITUTE GOODS OR SERVICES; LOSS OF USE,\n",
    "# DATA, OR PROFITS; OR BUSINESS INTERRUPTION) HOWEVER CAUSED AND ON ANY\n",
    "# THEORY OF LIABILITY, WHETHER IN CONTRACT, STRICT LIABILITY, OR TORT\n",
    "# (INCLUDING NEGLIGENCE OR OTHERWISE) ARISING IN ANY WAY OUT OF THE USE\n",
    "# OF THIS SOFTWARE, EVEN IF ADVISED OF THE POSSIBILITY OF SUCH DAMAGE.\n",
    "#\n",
    "# Contact: khmer-project@idyll.org\n",
    "# pylint: disable=invalid-name,missing-docstring\n",
    "\n",
    "\"\"\"\n",
    "Convert FASTQ files to FASTA format.\n",
    "\n",
    "% python scripts/fastq-to-fasta.py [ -n -o ] <fastq_name>\n",
    "\n",
    "Use '-h' for parameter help.\n",
    "\"\"\"\n",
    "import sys\n",
    "import screed\n",
    "from khmer import __version__\n",
    "from khmer.kfile import (add_output_compression_type, get_file_writer,\n",
    "                         describe_file_handle)\n",
    "from khmer.utils import write_record\n",
    "from khmer.khmer_args import sanitize_help, KhmerArgumentParser\n",
    "from khmer.khmer_args import FileType as khFileType\n",
    "\n",
    "\n",
    "def get_parser():\n",
    "    parser = KhmerArgumentParser(\n",
    "        description='Converts FASTQ format (.fq) files to FASTA format (.fa).')\n",
    "\n",
    "    parser.add_argument('input_sequence', help='The name of the input'\n",
    "                        ' FASTQ sequence file.')\n",
    "    parser.add_argument('-o', '--output', metavar=\"filename\",\n",
    "                        type=khFileType('wb'),\n",
    "                        help='The name of the output'\n",
    "                        ' FASTA sequence file.',\n",
    "                        default=sys.stdout)\n",
    "    parser.add_argument('-n', '--n_keep', default=False, action='store_true',\n",
    "                        help='Option to keep reads containing \\'N\\'s in '\n",
    "                             'input_sequence file. Default is to drop reads')\n",
    "    add_output_compression_type(parser)\n",
    "    return parser\n",
    "\n",
    "\n",
    "def main():\n",
    "    args = sanitize_help(get_parser()).parse_args()\n",
    "\n",
    "    print('fastq from ', args.input_sequence, file=sys.stderr)\n",
    "    outfp = get_file_writer(args.output, args.gzip, args.bzip)\n",
    "    n_count = 0\n",
    "    for n, record in enumerate(screed.open(args.input_sequence)):\n",
    "        if n % 10000 == 0:\n",
    "            print('...', n, file=sys.stderr)\n",
    "\n",
    "        sequence = record['sequence']\n",
    "\n",
    "        if 'N' in sequence:\n",
    "            if not args.n_keep:\n",
    "                n_count += 1\n",
    "                continue\n",
    "\n",
    "        del record['quality']\n",
    "        write_record(record, outfp)\n",
    "\n",
    "    print('\\n' + 'lines from ' + args.input_sequence, file=sys.stderr)\n",
    "\n",
    "    if not args.n_keep:\n",
    "        print(str(n_count) + ' lines dropped.', file=sys.stderr)\n",
    "\n",
    "    else:\n",
    "        print('No lines dropped from file.', file=sys.stderr)\n",
    "\n",
    "    print('Wrote output to', describe_file_handle(args.output),\n",
    "          file=sys.stderr)\n",
    "\n",
    "\n",
    "if __name__ == '__main__':\n",
    "    main()\n"
   ]
  },
  {
   "cell_type": "code",
   "execution_count": null,
   "metadata": {},
   "outputs": [],
   "source": []
  }
 ],
 "metadata": {
  "kernelspec": {
   "display_name": "Python 3",
   "language": "python",
   "name": "python3"
  },
  "language_info": {
   "codemirror_mode": {
    "name": "ipython",
    "version": 3
   },
   "file_extension": ".py",
   "mimetype": "text/x-python",
   "name": "python",
   "nbconvert_exporter": "python",
   "pygments_lexer": "ipython3",
   "version": "3.8.5"
  }
 },
 "nbformat": 4,
 "nbformat_minor": 4
}
